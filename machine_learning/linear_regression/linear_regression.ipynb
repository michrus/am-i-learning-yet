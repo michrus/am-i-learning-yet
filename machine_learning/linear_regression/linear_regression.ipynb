{
 "cells": [
  {
   "attachments": {},
   "cell_type": "markdown",
   "metadata": {},
   "source": [
    "# Linear Regression\n",
    "\n",
    "## Introduction\n",
    "Is an algorithm for fitting linear model. Given linear model described by equation $ y = wx + b $, it finds the values for $w$ and $b$ such that the model \"fits\" the provided data. Meaning, given input values $x$ it predicts as acurately as possible the values of $y$.<br>\n",
    "<br>\n",
    "For demonstration, look at the plot below. The blue dots are data points and the red line represents a model that has been fit to that data - it's $w$ and $b$ parameters are such that given linear equation $ y = wx + b $ it correctly predicts $y$ for given input values $x$."
   ]
  },
  {
   "attachments": {},
   "cell_type": "markdown",
   "metadata": {},
   "source": [
    "![Linear model plot](linear_model_1.png)"
   ]
  },
  {
   "attachments": {},
   "cell_type": "markdown",
   "metadata": {},
   "source": [
    "The model from above example perfectly matches the data points. In real examples, however this will happen very rarely. In fact, the data points will almost always be such, that it is impossible to find parameters that put them all on the same line. See the example below for demonstration."
   ]
  },
  {
   "attachments": {},
   "cell_type": "markdown",
   "metadata": {},
   "source": [
    "![Linear model plot - random data points](linear_model_2.png)"
   ]
  },
  {
   "attachments": {},
   "cell_type": "markdown",
   "metadata": {},
   "source": [
    "In this case, we can clearly see there is no straight, red line that we could draw, that would contain all the blue dots. How, then can we fit linear model's parameters to such data? By doing the best we can in that situation, which means finding parameters $w$ and $b$ to minimize for each $x$, the distance between model's prediction (the red line) - $\\hat{y}$ and actual value for that data point - $y$. <br>\n",
    "<br>\n",
    "In other words we will calculate, and try to minimize, the error, also called the **cost function**."
   ]
  },
  {
   "attachments": {},
   "cell_type": "markdown",
   "metadata": {},
   "source": [
    "## Calculating the error\n",
    "\n",
    "The function that defines the error **for single data point** is called the **loss function**.<br>\n",
    "<br>\n",
    "For linear regression, the error value for each **individual** data point will be described as a **squarred** distance between model's prediction and actual value for that data point, found in the dataset. Mathematically, it is represented as:\n",
    "\n",
    "$$\n",
    "\\tag{1}\n",
    "\\begin{equation}\n",
    "l(\\hat{y}^{(j)}, y^{(j)}) = (\\hat{y}^{(j)} - y^{(j)})^2\n",
    "\\end{equation}\n",
    "$$\n",
    "\n",
    "Where:<br><br>\n",
    "$j$ - index of a data point in a dataset.<br>\n",
    "$y^{(j)}$ - value for j-th data point in the dataset.<br>\n",
    "$\\hat{y}^{(j)}$ - value predicted by the model, for j-th data point in the dataset.<br>\n",
    "\n"
   ]
  }
 ],
 "metadata": {
  "kernelspec": {
   "display_name": ".venv",
   "language": "python",
   "name": "python3"
  },
  "language_info": {
   "codemirror_mode": {
    "name": "ipython",
    "version": 3
   },
   "file_extension": ".py",
   "mimetype": "text/x-python",
   "name": "python",
   "nbconvert_exporter": "python",
   "pygments_lexer": "ipython3",
   "version": "3.10.6"
  },
  "orig_nbformat": 4,
  "vscode": {
   "interpreter": {
    "hash": "75b33379528e524409b88c275a668135ad8735421655c0cae10c8443e294f644"
   }
  }
 },
 "nbformat": 4,
 "nbformat_minor": 2
}
