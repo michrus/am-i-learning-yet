{
 "cells": [
  {
   "attachments": {},
   "cell_type": "markdown",
   "metadata": {},
   "source": [
    "# Linear Regression\n",
    "\n",
    "Linear regression is a method of finding parameters of a linear model to fit the provided input data.\n",
    "The linear model is a straight line mathematically defined as:\n",
    "\n",
    "$$\n",
    "y = wx + b\n",
    "$$\n",
    "Where:<br><br>\n",
    "$y$ - target variable also called dependent variable, \"output\".<br>\n",
    "$x$ - independent variable, \"input\".<br>\n",
    "$w$ - input variable coefficient, learned parameter.<br>\n",
    "$b$ - bias coefficient, learned parameter.<br>\n",
    "<br>\n",
    "Independent variable (x) doesn't have to be a single scalar value. Linear regression can model relationships between dependent variable (y) and multiple inputs as a sum of input values, each weighted by a coefficient and bias parameter. In this general case the equation for linear model would look like:\n",
    "\n",
    "$$\n",
    "y = \\displaystyle\\sum_{i=0}^{n-1}w_ix_i + b\n",
    "$$\n",
    "Where:<br><br>\n",
    "$y$ - target variable also called dependent variable, \"output\".<br>\n",
    "$n$ - number of independent variables (inputs).<br>\n",
    "$x_i$ - $i$-th independent variable, \"input\".<br>\n",
    "$w_i$ - $i$-th input variable coefficient, learned parameter.<br>\n",
    "$b$ - bias coefficient, learned parameter. Single, scalar value.<br>\n",
    "<br>\n",
    "This could also be written using vectors for simplification:\n",
    "$$\n",
    "y = \\vec{w}^\\intercal \\vec{x} + b\n",
    "$$\n",
    "Where:<br><br>\n",
    "$y$ - target variable also called dependent variable, \"output\". Scalar<br>\n",
    "$\\vec{x}$ - vector of $n$ independent variables/inputs.<br>\n",
    "$\\vec{w}$ - vector of $n$ input variable coefficients, learned parameters. Note, the vector is transposed: $\\vec{w}^\\intercal$<br>\n",
    "$b$ - bias coefficient, learned parameters. Single, scalar value.<br>"
   ]
  },
  {
   "cell_type": "markdown",
   "metadata": {},
   "source": []
  }
 ],
 "metadata": {
  "kernelspec": {
   "display_name": "Python 3 (ipykernel)",
   "language": "python",
   "name": "python3"
  },
  "orig_nbformat": 4
 },
 "nbformat": 4,
 "nbformat_minor": 2
}
