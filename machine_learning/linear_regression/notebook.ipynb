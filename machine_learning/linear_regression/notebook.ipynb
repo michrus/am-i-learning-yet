{
 "cells": [
  {
   "attachments": {},
   "cell_type": "markdown",
   "metadata": {},
   "source": [
    "# Required libraries\n",
    "We need to run the cell below to import all the necessary libraries that we'll use."
   ]
  },
  {
   "cell_type": "code",
   "execution_count": 31,
   "metadata": {},
   "outputs": [],
   "source": [
    "# Importing required libraries\n",
    "import numpy as np\n",
    "from matplotlib import pyplot as plt"
   ]
  },
  {
   "attachments": {},
   "cell_type": "markdown",
   "metadata": {},
   "source": [
    "# Linear Regression\n",
    "\n",
    "Linear regression is a method of finding parameters of a linear model to fit the provided input data.\n",
    "The linear model is a straight line mathematically defined as:\n",
    "\n",
    "$$\n",
    "\\tag{1}\n",
    "\\begin{equation}\n",
    "y = wx + b \n",
    "\\end{equation}\n",
    "$$\n",
    "Where:<br><br>\n",
    "$y$ - target variable also called dependent variable, \"output\".<br>\n",
    "$x$ - independent variable, \"input\".<br>\n",
    "$w$ - input variable coefficient, learned parameter.<br>\n",
    "$b$ - bias coefficient, learned parameter.<br>\n",
    "<br>\n",
    "Independent variable (x) doesn't have to be a single scalar value. Linear regression can model relationships between dependent variable (y) and multiple inputs as a sum of input values, each weighted by a coefficient and bias parameter. In this general case the equation for linear model would look like:\n",
    "\n",
    "$$\n",
    "\\tag{2}\n",
    "\\begin{equation}\n",
    "y = \\displaystyle\\sum_{i=0}^{n-1}w_ix_i + b\n",
    "\\end{equation}\n",
    "$$\n",
    "Where:<br><br>\n",
    "$y$ - target variable also called dependent variable, \"output\".<br>\n",
    "$n$ - number of independent variables (inputs).<br>\n",
    "$x_i$ - $i$-th independent variable, \"input\".<br>\n",
    "$w_i$ - $i$-th input variable coefficient, learned parameter.<br>\n",
    "$b$ - bias coefficient, learned parameter. Single, scalar value.<br>\n",
    "<br>\n",
    "This could also be written using vectors for simplification:\n",
    "$$\n",
    "\\tag{3}\n",
    "\\begin{equation}\n",
    "y = \\vec{w}^\\intercal \\vec{x} + b\n",
    "\\end{equation}\n",
    "$$\n",
    "Where:<br><br>\n",
    "$y$ - target variable also called dependent variable, \"output\". Scalar<br>\n",
    "$\\vec{x}$ - vector of $n$ independent variables/inputs.<br>\n",
    "$\\vec{w}$ - vector of $n$ input variable coefficients, learned parameters. Note, the vector is transposed: $\\vec{w}^\\intercal$<br>\n",
    "$b$ - bias coefficient, learned parameters. Single, scalar value.<br>\n",
    "<br>\n",
    "It is important to keep in mind we will never calculate just one, single value of target variable $y$. The value of dependent variable must be calculated multiple times, for each value of independent variable $x$ (or a set of values for multiple input variable**s** if we have more than one) we have in our dataset. We can present it as:\n",
    "\n",
    "$$\n",
    "\\tag{4}\n",
    "\\begin{equation}\n",
    "y^{(j)} = \\displaystyle\\sum_{i=0}^{n-1}w_i x_i^{(j)} + b\n",
    "\\end{equation}\n",
    "$$\n",
    "Where:<br><br>\n",
    "$n$ - number of input variables $x$. Each data point in a dataset must have this many independent variables.<br>\n",
    "$i$ - index of an input variable (or a corresponding parameter $w$):  $\\ i\\in[0, n]$<br>\n",
    "$m$ - number of data points in the dataset. Each data point is a pair of values consisting of target variable value and set of values of input parameters, so the $j$-th data point would be represented as: $(y^{(j)},x_0^{(j)} ...\\ x_n^{(j)})$.<br>\n",
    "$j$ - index of a data point in a dataset: $\\ j\\in[0, m]$<br>\n",
    "$y^{(j)}$ - value of target variable for $j$-th data sample in a dataset.<br>\n",
    "$x_i^{(j)}$ - $i$-th input variable coefficient, for $j$-th data point in the dataset, learned parameter.<br>\n",
    "$w_i$ - $i$-th input variable coefficient. Note this doesn't change between data samples $j$! Each data point uses the same set of coefficients $(w_0, w_n)$ for input variables $(x_0^{(j)} ...\\ x_n^{(j)})$.<br>\n",
    "$b$ - bias coefficient, learned parameter. Single, scalar value. Note it doesn't change between data samples.<br><br>\n",
    "\n",
    "This could also be presented using matrices, but this will be elaboreted on later."
   ]
  },
  {
   "attachments": {},
   "cell_type": "markdown",
   "metadata": {},
   "source": [
    "## Single variable linear function"
   ]
  },
  {
   "attachments": {},
   "cell_type": "markdown",
   "metadata": {},
   "source": [
    "### Implementation\n",
    "Below code cell implements equations explained above for single input variable linear function."
   ]
  },
  {
   "cell_type": "code",
   "execution_count": 29,
   "metadata": {},
   "outputs": [],
   "source": [
    "# This cell implements class providing basic linear model with single variable.\n",
    "\n",
    "class SingleInputLinearModel:\n",
    "    \"\"\"Basic linear model implementation assuming single input variable.\"\"\"\n",
    "\n",
    "    def __init__(self, w: float, b: float) -> None:\n",
    "        \"\"\"Method initiating model parameters.\n",
    "        \n",
    "        Arguments:\n",
    "            w (float): input variable coefficient.\n",
    "            b (float): bias variable parameter.\n",
    "        \"\"\"\n",
    "        self.w = w\n",
    "        self.b = b\n",
    "\n",
    "    def y(self, x: float) -> float:\n",
    "        \"\"\"\n",
    "        Returns target variable based on provided input value and model params.\n",
    "\n",
    "        Arguments:\n",
    "            x (float): input variable, single scalar value.\n",
    "        \n",
    "        Returns:\n",
    "            float - calculated value of dependent variable. Scalar.\n",
    "        \"\"\"\n",
    "        return x*self.w + self.b"
   ]
  },
  {
   "cell_type": "code",
   "execution_count": 24,
   "metadata": {},
   "outputs": [],
   "source": [
    "# Linear model data preparation.\n",
    "\n",
    "w = 2\n",
    "b = 10\n",
    "\n",
    "model = SingleInputLinearModel(w, b)\n",
    "\n",
    "# Create a set of input values.\n",
    "# NOTE: These are not different, separate input variables. These are different\n",
    "#       values for the same independent variable.\n",
    "# numpy method linspace() will yield us 5 values from the range of [0, 10].\n",
    "x = np.linspace(0, 10, 5)\n",
    "\n",
    "# This will calculate values of output variable for each input variable value\n",
    "# in our single-input linear model\n",
    "y = [model.y(x_j) for x_j in x]"
   ]
  },
  {
   "attachments": {},
   "cell_type": "markdown",
   "metadata": {},
   "source": [
    "### Visualisation using matplotlib\n",
    "Below code visualises the results of simple linear model implementation from above.\n",
    "The blue dots are actual data points we calculated in previous cell.\n",
    "The red line is visualisation of a continuous linear function."
   ]
  },
  {
   "cell_type": "code",
   "execution_count": 28,
   "metadata": {},
   "outputs": [
    {
     "data": {
      "image/png": "[encoded data removed]",
      "text/plain": [
       "<Figure size 640x480 with 1 Axes>"
      ]
     },
     "metadata": {},
     "output_type": "display_data"
    }
   ],
   "source": [
    "# Linear model visualisation on a scatter plot.\n",
    "plt.plot(x, y, color=\"red\", label=\"Continuous plot\", zorder=0)\n",
    "plt.scatter(x, y, label=\"Data points\", zorder=1)\n",
    "plt.ylabel(\"Target variable - Y\")\n",
    "plt.xlabel(\"Input variable - X\")\n",
    "plt.legend()\n",
    "plt.show()"
   ]
  },
  {
   "attachments": {},
   "cell_type": "markdown",
   "metadata": {},
   "source": [
    "## Multivariate linear function"
   ]
  },
  {
   "attachments": {},
   "cell_type": "markdown",
   "metadata": {},
   "source": [
    "### Implementation\n",
    "Now we'll do another implementation, this time for a case where our model can have any number of input variables."
   ]
  },
  {
   "cell_type": "code",
   "execution_count": 33,
   "metadata": {},
   "outputs": [],
   "source": [
    "# This cell implements class providing basic linear model that can have\n",
    "# any number of input variables.\n",
    "\n",
    "class MultivariateLinearModel:\n",
    "    \"\"\"Basic linear model implementation assuming single input variable.\"\"\"\n",
    "\n",
    "    def __init__(self, w_vector: np.ndarray, b: float) -> None:\n",
    "        \"\"\"Method initiating model parameters.\n",
    "        \n",
    "        Arguments:\n",
    "            w_vector (np.ndarray): vector of input weight coefficients.\n",
    "                This has to be numpy ndarray of shape (n,) where n in the number\n",
    "                of independent (input) variables.\n",
    "            b (float): bias variable parameter. This is single scalar value.\n",
    "        \"\"\"\n",
    "        assert isinstance(w_vector, np.ndarray), \"w_vector must be numpy array!\"\n",
    "        assert len(w_vector.shape) == 1 or \\\n",
    "               (len(w_vector.shape) == 2 and w_vector.shape[1] == 1), \\\n",
    "               \"w_vector must be one dimensional vector!\"\n",
    "        self.w_vector = w_vector\n",
    "        # If it's of shape (n, 1), rather than (n,) - reshape\n",
    "        if len(w_vector.shape) == 2 and w_vector.shape[1] == 1:\n",
    "            self.w_vector = self.w_vector.reshape((self.w_vector.size,))\n",
    "        self.b = b\n",
    "\n",
    "    def y(self, x_vector: np.ndarray) -> float:\n",
    "        \"\"\"\n",
    "        Returns target variable based on provided input value and model params.\n",
    "\n",
    "        Arguments:\n",
    "            x_vector (np.ndarray): vector of input variable values.\n",
    "        \n",
    "        Returns:\n",
    "            float - calculated value of dependent variable. Scalar.\n",
    "        \"\"\"\n",
    "        return x*self.w + self.b"
   ]
  }
 ],
 "metadata": {
  "kernelspec": {
   "display_name": "venv_ml",
   "language": "python",
   "name": "python3"
  },
  "language_info": {
   "codemirror_mode": {
    "name": "ipython",
    "version": 3
   },
   "file_extension": ".py",
   "mimetype": "text/x-python",
   "name": "python",
   "nbconvert_exporter": "python",
   "pygments_lexer": "ipython3",
   "version": "3.9.15"
  },
  "orig_nbformat": 4,
  "vscode": {
   "interpreter": {
    "hash": "c06a92245aa9f3624ecd6fb641350e663d8cfd7ac112819cad7ef7c450987e98"
   }
  }
 },
 "nbformat": 4,
 "nbformat_minor": 2
}
