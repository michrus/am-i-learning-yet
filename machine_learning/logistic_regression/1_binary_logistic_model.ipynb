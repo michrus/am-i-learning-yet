{
 "cells": [
  {
   "attachments": {},
   "cell_type": "markdown",
   "metadata": {},
   "source": [
    "# Logistic Regression\n",
    "Arguably the most commonly used classification algorithm. Utilized to predict a probability that the binary outcome of linear combination of independent variables is going to be 0 or 1."
   ]
  }
 ],
 "metadata": {
  "language_info": {
   "name": "python"
  },
  "orig_nbformat": 4
 },
 "nbformat": 4,
 "nbformat_minor": 2
}
