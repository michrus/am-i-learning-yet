{
 "cells": [
  {
   "attachments": {},
   "cell_type": "markdown",
   "metadata": {},
   "source": [
    "# Logistic Regression\n",
    "Arguably the most commonly used classification algorithm. Utilized to predict a probability that the binary outcome of linear combination of independent variables is going to be 0 or 1.\n",
    "\n",
    "To model that mathematically, we use sigmoid function given by equation (1) below:\n",
    "\n",
    "$$\n",
    "\\tag{1}\n",
    "\\begin{equation}\n",
    "g(z) = {1 \\over 1+e^{-z}}\n",
    "\\end{equation}\n",
    "$$\n",
    "\n",
    "Where:\n",
    "\n",
    "$g$ - sigmoid function symbol.\n",
    "\n",
    "$e$ - euler's constant.\n",
    "\n",
    "$z$ - sigmoid function argument, see below.\n",
    "\n",
    "\n",
    "The sigmoid function's argument is denoted by $z$ and is a linear function (note the operation on two vectors being made is a dot product):\n",
    "\n",
    "$$\n",
    "\\tag{2}\n",
    "\\begin{equation}\n",
    "z = \\vec{w} \\cdot \\vec{x} + b\n",
    "\\end{equation}\n",
    "$$\n",
    "\n",
    "Where:\n",
    "\n",
    "$z$ - linear function symbol.\n",
    "\n",
    "$\\vec{w}$ - vector of linear function parameters.\n",
    "\n",
    "$\\vec{x}$ - vector of independent variables.\n",
    "\n",
    "$b$ - bias parameter.\n"
   ]
  }
 ],
 "metadata": {
  "kernelspec": {
   "display_name": ".venv",
   "language": "python",
   "name": "python3"
  },
  "language_info": {
   "name": "python",
   "version": "3.10.6"
  },
  "orig_nbformat": 4
 },
 "nbformat": 4,
 "nbformat_minor": 2
}
